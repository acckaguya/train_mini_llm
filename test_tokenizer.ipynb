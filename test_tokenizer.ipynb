{
 "cells": [
  {
   "cell_type": "code",
   "execution_count": 1,
   "id": "4007d40d",
   "metadata": {},
   "outputs": [],
   "source": [
    "from transformers import AutoTokenizer\n",
    "\n",
    "#加载预训练的tokenizer\n",
    "tokenizer = AutoTokenizer.from_pretrained(\"./tokenizer/\")"
   ]
  },
  {
   "cell_type": "code",
   "execution_count": 2,
   "id": "574ed26b",
   "metadata": {},
   "outputs": [
    {
     "data": {
      "text/plain": [
       "[3470, 2643, 372]"
      ]
     },
     "execution_count": 2,
     "metadata": {},
     "output_type": "execute_result"
    }
   ],
   "source": [
    "tokenizer.encode(\"你是谁？\")"
   ]
  },
  {
   "cell_type": "code",
   "execution_count": 3,
   "id": "f9032762",
   "metadata": {},
   "outputs": [
    {
     "data": {
      "text/plain": [
       "'你是'"
      ]
     },
     "execution_count": 3,
     "metadata": {},
     "output_type": "execute_result"
    }
   ],
   "source": [
    "tokenizer.decode(3470)"
   ]
  },
  {
   "cell_type": "code",
   "execution_count": 4,
   "id": "e34a96ac",
   "metadata": {},
   "outputs": [
    {
     "data": {
      "text/plain": [
       "'？'"
      ]
     },
     "execution_count": 4,
     "metadata": {},
     "output_type": "execute_result"
    }
   ],
   "source": [
    "tokenizer.decode(372)"
   ]
  },
  {
   "cell_type": "code",
   "execution_count": 5,
   "id": "973801a1",
   "metadata": {},
   "outputs": [
    {
     "data": {
      "text/plain": [
       "6400"
      ]
     },
     "execution_count": 5,
     "metadata": {},
     "output_type": "execute_result"
    }
   ],
   "source": [
    "tokenizer.vocab_size"
   ]
  }
 ],
 "metadata": {
  "kernelspec": {
   "display_name": "pytorch_2.7.0",
   "language": "python",
   "name": "python3"
  },
  "language_info": {
   "codemirror_mode": {
    "name": "ipython",
    "version": 3
   },
   "file_extension": ".py",
   "mimetype": "text/x-python",
   "name": "python",
   "nbconvert_exporter": "python",
   "pygments_lexer": "ipython3",
   "version": "3.12.9"
  }
 },
 "nbformat": 4,
 "nbformat_minor": 5
}
