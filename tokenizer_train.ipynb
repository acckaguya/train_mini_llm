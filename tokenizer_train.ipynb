{
 "cells": [
  {
   "cell_type": "code",
   "execution_count": 1,
   "id": "ce9ff300",
   "metadata": {},
   "outputs": [],
   "source": [
    "import random\n",
    "import json\n",
    "from tokenizers import decoders, models, pre_tokenizers, trainers, Tokenizer\n",
    "import os\n",
    "\n",
    "\n",
    "random.seed(42)"
   ]
  },
  {
   "cell_type": "code",
   "execution_count": 7,
   "id": "75e95c76",
   "metadata": {},
   "outputs": [],
   "source": [
    "path = \"D:\\\\CODE\\\\train_tokenizer\\\\dataset\\\\tokenizer_training_data.jsonl\"\n",
    "\n",
    "def read_text(file_path):\n",
    "    with open(file_path, 'r', encoding='utf-8') as f:\n",
    "        for line in f:\n",
    "            data = json.loads(line)\n",
    "            yield data['text']"
   ]
  },
  {
   "cell_type": "code",
   "execution_count": 8,
   "id": "ff92a4db",
   "metadata": {},
   "outputs": [],
   "source": [
    "texts = read_text(path)"
   ]
  },
  {
   "cell_type": "code",
   "execution_count": 9,
   "id": "6a632561",
   "metadata": {},
   "outputs": [],
   "source": [
    "#初始化Tokenizer\n",
    "tokenizer = Tokenizer(models.BPE())\n",
    "tokenizer.pre_tokenizer = pre_tokenizers.ByteLevel(add_prefix_space=False)\n",
    "\n",
    "\n",
    "#定义特殊的Token\n",
    "special_tokens = [\"<unk>\", \"<s>\", \"</s>\"]"
   ]
  },
  {
   "cell_type": "code",
   "execution_count": 10,
   "id": "18076ab9",
   "metadata": {},
   "outputs": [],
   "source": [
    "#设置训练器并加载特殊token\n",
    "trainer = trainers.BpeTrainer(\n",
    "    vocab_size=6400,\n",
    "    special_tokens=special_tokens,\n",
    "    show_progress=True,\n",
    "    initial_alphabet=pre_tokenizers.ByteLevel.alphabet()\n",
    ")"
   ]
  },
  {
   "cell_type": "code",
   "execution_count": null,
   "id": "77ec08ae",
   "metadata": {},
   "outputs": [],
   "source": [
    "#训练tokenizer\n",
    "tokenizer.train_from_iterator(texts,trainer=trainer)"
   ]
  }
 ],
 "metadata": {
  "kernelspec": {
   "display_name": "pytorch_2.7.0",
   "language": "python",
   "name": "python3"
  },
  "language_info": {
   "codemirror_mode": {
    "name": "ipython",
    "version": 3
   },
   "file_extension": ".py",
   "mimetype": "text/x-python",
   "name": "python",
   "nbconvert_exporter": "python",
   "pygments_lexer": "ipython3",
   "version": "3.12.9"
  }
 },
 "nbformat": 4,
 "nbformat_minor": 5
}
